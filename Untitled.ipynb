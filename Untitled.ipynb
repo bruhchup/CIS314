{
 "cells": [
  {
   "cell_type": "markdown",
   "id": "ec486b60-1b02-4eaa-b58e-7062e6e5747b",
   "metadata": {},
   "source": [
    "# Numpy Matrix Ops: max and argmax"
   ]
  },
  {
   "cell_type": "code",
   "execution_count": 1,
   "id": "aa32d09c-437b-49e3-b3b3-1efeb0d35cf4",
   "metadata": {},
   "outputs": [],
   "source": [
    "import numpy as np"
   ]
  },
  {
   "cell_type": "code",
   "execution_count": 2,
   "id": "a341e7da-14a4-4605-87eb-5c96ae896fdf",
   "metadata": {},
   "outputs": [
    {
     "name": "stdout",
     "output_type": "stream",
     "text": [
      "[[1 0 9 9]\n",
      " [8 3 0 0]\n",
      " [0 0 0 9]]\n"
     ]
    }
   ],
   "source": [
    "matrix = np.zeros((3,4), dtype=int)\n",
    "matrix[0,0] = 1\n",
    "matrix[0,2] = 9\n",
    "matrix[0,3] = 9\n",
    "matrix[1,0] = 8\n",
    "matrix[1,1] = 3\n",
    "matrix[2,3] = 9\n",
    "print(matrix)"
   ]
  },
  {
   "cell_type": "code",
   "execution_count": 3,
   "id": "edccb830-8fd1-4261-8283-89ba46217547",
   "metadata": {},
   "outputs": [
    {
     "name": "stdout",
     "output_type": "stream",
     "text": [
      "max overall 9\n",
      "a row of max per column [8 3 9 9]\n",
      "a column of max per row [9 8 9]\n"
     ]
    }
   ],
   "source": [
    "print('max overall', np.max(matrix))\n",
    "print('a row of max per column', np.max(matrix, axis = 0))\n",
    "print('a column of max per row', np.max(matrix, axis = 1))"
   ]
  },
  {
   "cell_type": "code",
   "execution_count": 4,
   "id": "41d1f774-4967-4938-bbb0-3f2b3cd6c7c4",
   "metadata": {},
   "outputs": [
    {
     "name": "stdout",
     "output_type": "stream",
     "text": [
      "a row of index of max per column [1 1 0 0]\n",
      "a column of index of max per row [2 0 3]\n"
     ]
    }
   ],
   "source": [
    "print('a row of index of max per column', np.argmax(matrix, axis = 0))\n",
    "print('a column of index of max per row', np.argmax(matrix, axis = 1))"
   ]
  },
  {
   "cell_type": "code",
   "execution_count": 5,
   "id": "e939d232-51b5-4f8a-9667-7e6409b0f052",
   "metadata": {},
   "outputs": [
    {
     "name": "stdout",
     "output_type": "stream",
     "text": [
      "count all nonzero 6\n",
      "row of count nonzero per col [2 1 1 2]\n",
      "column of count nonzero per row [3 2 1]\n"
     ]
    }
   ],
   "source": [
    "print('count all nonzero', np.count_nonzero(matrix))\n",
    "print('row of count nonzero per col', np.count_nonzero(matrix, axis = 0))\n",
    "print('column of count nonzero per row', np.count_nonzero(matrix, axis = 1))"
   ]
  },
  {
   "cell_type": "code",
   "execution_count": 7,
   "id": "ceb9b01c-6645-40a5-814f-e84cfff8a07c",
   "metadata": {},
   "outputs": [
    {
     "name": "stdout",
     "output_type": "stream",
     "text": [
      "count all above five 4\n",
      "row of count above five per col [1 0 1 2]\n",
      "col of count above five per row [2 1 1]\n"
     ]
    }
   ],
   "source": [
    "print('count all above five', np.count_nonzero(matrix > 5))\n",
    "print('row of count above five per col', np.count_nonzero(matrix > 5, axis = 0))\n",
    "print('col of count above five per row', np.count_nonzero(matrix > 5, axis = 1))"
   ]
  },
  {
   "cell_type": "code",
   "execution_count": 10,
   "id": "acc955d5-74ec-49de-b75f-572096a9f23d",
   "metadata": {},
   "outputs": [
    {
     "name": "stdout",
     "output_type": "stream",
     "text": [
      "count ties per row\n",
      "1 [1 0 9 9]\n",
      "0 [8 3 0 0]\n",
      "0 [0 0 0 9]\n"
     ]
    }
   ],
   "source": [
    "print('count ties per row')\n",
    "for row in range(matrix.shape[0]):\n",
    "    row_max = np.max(matrix[row])\n",
    "    ties = np.count_nonzero(matrix[row]==row_max) - 1\n",
    "    print(ties, matrix[row])"
   ]
  },
  {
   "cell_type": "code",
   "execution_count": null,
   "id": "2c139f7b-17dc-4620-9b41-63cf1f133e6c",
   "metadata": {},
   "outputs": [],
   "source": []
  }
 ],
 "metadata": {
  "kernelspec": {
   "display_name": "Python 3 (ipykernel)",
   "language": "python",
   "name": "python3"
  },
  "language_info": {
   "codemirror_mode": {
    "name": "ipython",
    "version": 3
   },
   "file_extension": ".py",
   "mimetype": "text/x-python",
   "name": "python",
   "nbconvert_exporter": "python",
   "pygments_lexer": "ipython3",
   "version": "3.10.8"
  }
 },
 "nbformat": 4,
 "nbformat_minor": 5
}
