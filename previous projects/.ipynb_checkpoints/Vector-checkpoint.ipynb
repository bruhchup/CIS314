{
 "cells": [
  {
   "cell_type": "markdown",
   "id": "2bc6b59e-6034-47c2-8671-f298dc2a9118",
   "metadata": {},
   "source": [
    "# Vector\n",
    "Textbook try this 3-3 gives vector length and angle, and asks for X and Y projections."
   ]
  },
  {
   "cell_type": "code",
   "execution_count": 1,
   "id": "4c4fc240-b82a-420d-85c2-841f00f59409",
   "metadata": {},
   "outputs": [],
   "source": [
    "length = 8.2   # meters per sec\n",
    "angle = 53.32  # degrees"
   ]
  },
  {
   "cell_type": "markdown",
   "id": "adf29592-16e5-4942-87a6-14555ac476d4",
   "metadata": {},
   "source": [
    "sine = opposite side / hypotenuse\n",
    "<br>\n",
    "cosine = adjacent side / hypotenuse"
   ]
  },
  {
   "cell_type": "code",
   "execution_count": 2,
   "id": "e30f08f6-ec16-4260-be03-f379afa7a6bf",
   "metadata": {},
   "outputs": [],
   "source": [
    "import numpy as np"
   ]
  },
  {
   "cell_type": "code",
   "execution_count": 3,
   "id": "51cbe7b3-9579-4dd6-9523-5688d01ae032",
   "metadata": {},
   "outputs": [
    {
     "data": {
      "text/plain": [
       "0.9306095571633765"
      ]
     },
     "execution_count": 3,
     "metadata": {},
     "output_type": "execute_result"
    }
   ],
   "source": [
    "# Numpy trig functions assume the angle is in radians.\n",
    "# 360 degrees is the full circle, and 2*pi radians is the full circle.\n",
    "# We must convert 53 degrees to radians.\n",
    "def degrees_to_radians(deg):\n",
    "    return deg * np.pi / 180\n",
    "radians = degrees_to_radians(angle)\n",
    "radians"
   ]
  },
  {
   "cell_type": "code",
   "execution_count": 4,
   "id": "33ff0a2d-6466-49c2-bfa9-174d20def26d",
   "metadata": {},
   "outputs": [
    {
     "data": {
      "text/plain": [
       "6.5762704885661485"
      ]
     },
     "execution_count": 4,
     "metadata": {},
     "output_type": "execute_result"
    }
   ],
   "source": [
    "proj_Y = np.sin(radians) * length\n",
    "proj_Y"
   ]
  },
  {
   "cell_type": "code",
   "execution_count": 5,
   "id": "f1ddc828-7d6d-412a-9980-df0a546c7d5d",
   "metadata": {},
   "outputs": [
    {
     "data": {
      "text/plain": [
       "4.898230952212638"
      ]
     },
     "execution_count": 5,
     "metadata": {},
     "output_type": "execute_result"
    }
   ],
   "source": [
    "proj_X = np.cos(radians) * length\n",
    "proj_X"
   ]
  },
  {
   "cell_type": "code",
   "execution_count": 6,
   "id": "2379b8fd-6441-4bfa-b47f-04e23c4fd5eb",
   "metadata": {},
   "outputs": [],
   "source": [
    "# My triangle sides are 4.9 and 6.6 and 8.2\n",
    "# You should test this with the Pythagoreon theorem!"
   ]
  },
  {
   "cell_type": "code",
   "execution_count": null,
   "id": "736bb6f4-b1de-47fd-a071-2948ea8d62ea",
   "metadata": {},
   "outputs": [],
   "source": []
  }
 ],
 "metadata": {
  "kernelspec": {
   "display_name": "Python 3 (ipykernel)",
   "language": "python",
   "name": "python3"
  },
  "language_info": {
   "codemirror_mode": {
    "name": "ipython",
    "version": 3
   },
   "file_extension": ".py",
   "mimetype": "text/x-python",
   "name": "python",
   "nbconvert_exporter": "python",
   "pygments_lexer": "ipython3",
   "version": "3.10.7"
  }
 },
 "nbformat": 4,
 "nbformat_minor": 5
}
