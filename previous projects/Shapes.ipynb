{
 "cells": [
  {
   "cell_type": "code",
   "execution_count": 1,
   "id": "479820cb-374c-41a4-abed-fc399b21c5b0",
   "metadata": {},
   "outputs": [],
   "source": [
    "from Geometry import Rectangle\n",
    "from Geometry import Circle"
   ]
  },
  {
   "cell_type": "code",
   "execution_count": 2,
   "id": "8b95dbc6-3fb2-4426-8967-2b33cc5e2314",
   "metadata": {},
   "outputs": [],
   "source": [
    "rec = Rectangle.rectangle(8,5)"
   ]
  },
  {
   "cell_type": "code",
   "execution_count": 3,
   "id": "11392bfe-6797-4868-8939-e80bcc858787",
   "metadata": {},
   "outputs": [
    {
     "data": {
      "text/plain": [
       "8"
      ]
     },
     "execution_count": 3,
     "metadata": {},
     "output_type": "execute_result"
    }
   ],
   "source": [
    "rec.getLength()"
   ]
  },
  {
   "cell_type": "code",
   "execution_count": 4,
   "id": "68243104-7050-4201-9547-3ceff02acbee",
   "metadata": {},
   "outputs": [
    {
     "data": {
      "text/plain": [
       "5"
      ]
     },
     "execution_count": 4,
     "metadata": {},
     "output_type": "execute_result"
    }
   ],
   "source": [
    "rec.getHeight()"
   ]
  },
  {
   "cell_type": "code",
   "execution_count": 5,
   "id": "36805ce7-3642-4952-8946-5e37eacbe7f5",
   "metadata": {},
   "outputs": [
    {
     "data": {
      "text/plain": [
       "40"
      ]
     },
     "execution_count": 5,
     "metadata": {},
     "output_type": "execute_result"
    }
   ],
   "source": [
    "rec.getArea()"
   ]
  },
  {
   "cell_type": "code",
   "execution_count": 6,
   "id": "563eafd1-f59b-4ec1-99be-fbe5954e5cbb",
   "metadata": {},
   "outputs": [],
   "source": [
    "cir = Circle.circle(4)"
   ]
  },
  {
   "cell_type": "code",
   "execution_count": 7,
   "id": "8b8c3ff6-8fca-45b3-befc-a070af24513e",
   "metadata": {},
   "outputs": [
    {
     "data": {
      "text/plain": [
       "4"
      ]
     },
     "execution_count": 7,
     "metadata": {},
     "output_type": "execute_result"
    }
   ],
   "source": [
    "cir.getRadius()"
   ]
  },
  {
   "cell_type": "code",
   "execution_count": 8,
   "id": "6fca7a48-5b30-48aa-a06a-d5d5870a7197",
   "metadata": {},
   "outputs": [
    {
     "data": {
      "text/plain": [
       "8"
      ]
     },
     "execution_count": 8,
     "metadata": {},
     "output_type": "execute_result"
    }
   ],
   "source": [
    "cir.getDiameter()"
   ]
  },
  {
   "cell_type": "code",
   "execution_count": 9,
   "id": "aefe2e1c-4a0b-41bf-9770-07ea94adb58f",
   "metadata": {},
   "outputs": [
    {
     "data": {
      "text/plain": [
       "25.132741228718345"
      ]
     },
     "execution_count": 9,
     "metadata": {},
     "output_type": "execute_result"
    }
   ],
   "source": [
    "cir.getCircumference()"
   ]
  },
  {
   "cell_type": "code",
   "execution_count": 10,
   "id": "e475806d-75fb-44db-963b-752e6c4ec1ee",
   "metadata": {},
   "outputs": [
    {
     "data": {
      "text/plain": [
       "50.26548245743669"
      ]
     },
     "execution_count": 10,
     "metadata": {},
     "output_type": "execute_result"
    }
   ],
   "source": [
    "cir.getArea()"
   ]
  }
 ],
 "metadata": {
  "kernelspec": {
   "display_name": "Python 3 (ipykernel)",
   "language": "python",
   "name": "python3"
  },
  "language_info": {
   "codemirror_mode": {
    "name": "ipython",
    "version": 3
   },
   "file_extension": ".py",
   "mimetype": "text/x-python",
   "name": "python",
   "nbconvert_exporter": "python",
   "pygments_lexer": "ipython3",
   "version": "3.10.7"
  }
 },
 "nbformat": 4,
 "nbformat_minor": 5
}
