{
 "cells": [
  {
   "cell_type": "markdown",
   "id": "bba0a7b3-edf6-4b63-aee4-6783de594f3d",
   "metadata": {},
   "source": [
    "# Circle"
   ]
  },
  {
   "cell_type": "code",
   "execution_count": 1,
   "id": "2d229aa6-4515-49de-a456-24a4c0e11256",
   "metadata": {},
   "outputs": [],
   "source": [
    "from Geometry import Circle"
   ]
  },
  {
   "cell_type": "code",
   "execution_count": 2,
   "id": "55a4fdc3-9a8f-47a4-ae62-231bd492f35d",
   "metadata": {},
   "outputs": [
    {
     "data": {
      "text/plain": [
       "31.41592653589793"
      ]
     },
     "execution_count": 2,
     "metadata": {},
     "output_type": "execute_result"
    }
   ],
   "source": [
    "#calculates circumference\n",
    "\n",
    "radius = 5\n",
    "\n",
    "Circle.calcCircumference(radius)"
   ]
  },
  {
   "cell_type": "code",
   "execution_count": 3,
   "id": "68708be5-eeb2-4e38-af80-dbe0dfceb79b",
   "metadata": {},
   "outputs": [
    {
     "data": {
      "text/plain": [
       "78.53981633974483"
      ]
     },
     "execution_count": 3,
     "metadata": {},
     "output_type": "execute_result"
    }
   ],
   "source": [
    "#calculates area\n",
    "\n",
    "Circle.calcArea(radius)"
   ]
  },
  {
   "cell_type": "code",
   "execution_count": 4,
   "id": "4c5eb3ea-2a2a-433a-a3e1-bcf641101bc9",
   "metadata": {},
   "outputs": [
    {
     "name": "stdout",
     "output_type": "stream",
     "text": [
      "Help on module Geometry.Circle in Geometry:\n",
      "\n",
      "NAME\n",
      "    Geometry.Circle - Functions to calculate circle measurements\n",
      "\n",
      "FUNCTIONS\n",
      "    calcArea(radius)\n",
      "        Calculates the radius of a circle\n",
      "    \n",
      "    calcCircumference(radius)\n",
      "        Calculates the circumference of a circle\n",
      "\n",
      "FILE\n",
      "    c:\\users\\hayde\\documents\\cis314\\geometry_real\\geometry\\circle.py\n",
      "\n",
      "\n"
     ]
    }
   ],
   "source": [
    "help(Circle)"
   ]
  },
  {
   "cell_type": "markdown",
   "id": "960f2911-9570-483e-890b-0a9ccf2cc777",
   "metadata": {},
   "source": [
    "# Rectangle"
   ]
  },
  {
   "cell_type": "code",
   "execution_count": 5,
   "id": "d4669dc7-8e02-4c34-bbb5-92bb78d79cb6",
   "metadata": {},
   "outputs": [],
   "source": [
    "from Geometry import Rectangle"
   ]
  },
  {
   "cell_type": "code",
   "execution_count": 6,
   "id": "842e455f-42c8-4dea-b0eb-3b6cc7cbe996",
   "metadata": {},
   "outputs": [
    {
     "data": {
      "text/plain": [
       "28"
      ]
     },
     "execution_count": 6,
     "metadata": {},
     "output_type": "execute_result"
    }
   ],
   "source": [
    "#calculates area\n",
    "\n",
    "length, height = 4, 7\n",
    "\n",
    "Rectangle.calcArea(length, height)"
   ]
  },
  {
   "cell_type": "code",
   "execution_count": 7,
   "id": "7e94f420-acf4-491b-b79d-86fa13c914c5",
   "metadata": {},
   "outputs": [
    {
     "data": {
      "text/plain": [
       "22"
      ]
     },
     "execution_count": 7,
     "metadata": {},
     "output_type": "execute_result"
    }
   ],
   "source": [
    "#calculates perimeter\n",
    "\n",
    "Rectangle.calcPerimeter(length, height)"
   ]
  },
  {
   "cell_type": "code",
   "execution_count": 8,
   "id": "dac1e5d6-787b-4dc3-87e8-d2a83e52960b",
   "metadata": {},
   "outputs": [
    {
     "name": "stdout",
     "output_type": "stream",
     "text": [
      "Help on module Geometry.Rectangle in Geometry:\n",
      "\n",
      "NAME\n",
      "    Geometry.Rectangle - Functions to calculate rectangle measurements\n",
      "\n",
      "FUNCTIONS\n",
      "    calcArea(x, y)\n",
      "        Calculate the area of a rectangle\n",
      "    \n",
      "    calcPerimeter(x, y)\n",
      "        Calculate the perimeter of a rectangle\n",
      "\n",
      "FILE\n",
      "    c:\\users\\hayde\\documents\\cis314\\geometry_real\\geometry\\rectangle.py\n",
      "\n",
      "\n"
     ]
    }
   ],
   "source": [
    "help(Rectangle)"
   ]
  },
  {
   "cell_type": "markdown",
   "id": "2c3a31fd-9a7b-4c17-becd-11cd0df969c7",
   "metadata": {},
   "source": [
    "# Right Triangle"
   ]
  },
  {
   "cell_type": "code",
   "execution_count": 9,
   "id": "884d19f9-2b5d-42c6-bec1-2ca00199004d",
   "metadata": {},
   "outputs": [],
   "source": [
    "from Geometry import RightTriangle"
   ]
  },
  {
   "cell_type": "code",
   "execution_count": 10,
   "id": "d54e84b6-c33c-4abf-811a-dabf124e858d",
   "metadata": {},
   "outputs": [
    {
     "data": {
      "text/plain": [
       "7.5"
      ]
     },
     "execution_count": 10,
     "metadata": {},
     "output_type": "execute_result"
    }
   ],
   "source": [
    "#calculates area\n",
    "\n",
    "adjacent, opposite = 3, 5\n",
    "\n",
    "RightTriangle.calcArea(3, 5)"
   ]
  },
  {
   "cell_type": "code",
   "execution_count": 11,
   "id": "b7aed35c-1bfc-443b-8116-c3d80a63725e",
   "metadata": {},
   "outputs": [
    {
     "data": {
      "text/plain": [
       "5.830951894845301"
      ]
     },
     "execution_count": 11,
     "metadata": {},
     "output_type": "execute_result"
    }
   ],
   "source": [
    "#calculates hypotenuse\n",
    "\n",
    "RightTriangle.calcHypotenuse(3, 5)"
   ]
  },
  {
   "cell_type": "code",
   "execution_count": 12,
   "id": "ec3ff117-c9db-4270-9859-a12eb7b54a6a",
   "metadata": {},
   "outputs": [
    {
     "name": "stdout",
     "output_type": "stream",
     "text": [
      "Help on module Geometry.RightTriangle in Geometry:\n",
      "\n",
      "NAME\n",
      "    Geometry.RightTriangle - Functions to calculate right triangle measurements\n",
      "\n",
      "FUNCTIONS\n",
      "    calcArea(adjacent, opposite)\n",
      "        Calculates the area of a right triangle\n",
      "    \n",
      "    calcHypotenuse(adjacent, opposite)\n",
      "        Calculates the hypotenuse of a right triangle\n",
      "    \n",
      "    sqrt(x, /)\n",
      "        Return the square root of x.\n",
      "\n",
      "FILE\n",
      "    c:\\users\\hayde\\documents\\cis314\\geometry_real\\geometry\\righttriangle.py\n",
      "\n",
      "\n"
     ]
    }
   ],
   "source": [
    "help(RightTriangle)"
   ]
  }
 ],
 "metadata": {
  "kernelspec": {
   "display_name": "Python 3 (ipykernel)",
   "language": "python",
   "name": "python3"
  },
  "language_info": {
   "codemirror_mode": {
    "name": "ipython",
    "version": 3
   },
   "file_extension": ".py",
   "mimetype": "text/x-python",
   "name": "python",
   "nbconvert_exporter": "python",
   "pygments_lexer": "ipython3",
   "version": "3.10.7"
  }
 },
 "nbformat": 4,
 "nbformat_minor": 5
}
