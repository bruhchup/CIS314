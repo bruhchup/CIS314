{
 "cells": [
  {
   "cell_type": "markdown",
   "id": "1409bf70-6c0e-4883-8752-c5334f4ab2e7",
   "metadata": {},
   "source": [
    "side = 3\n",
    "cube_vol = side * side * side\n",
    "cube_vol"
   ]
  },
  {
   "cell_type": "code",
   "execution_count": 16,
   "id": "1f674f3d-3038-410c-9486-b80ae787ba8d",
   "metadata": {},
   "outputs": [
    {
     "data": {
      "text/plain": [
       "27"
      ]
     },
     "execution_count": 16,
     "metadata": {},
     "output_type": "execute_result"
    }
   ],
   "source": [
    "side = 3\n",
    "cube_vol = side * side *side \n",
    "cube_vol"
   ]
  },
  {
   "cell_type": "code",
   "execution_count": 17,
   "id": "cea41bd4-6866-4dbd-ad69-a43c7d1c60e9",
   "metadata": {},
   "outputs": [
    {
     "data": {
      "text/plain": [
       "int"
      ]
     },
     "execution_count": 17,
     "metadata": {},
     "output_type": "execute_result"
    }
   ],
   "source": [
    "type(cube_vol)"
   ]
  },
  {
   "cell_type": "code",
   "execution_count": 18,
   "id": "91f1ee4c-5284-443b-a993-eac956bcaced",
   "metadata": {},
   "outputs": [
    {
     "data": {
      "text/plain": [
       "5"
      ]
     },
     "execution_count": 18,
     "metadata": {},
     "output_type": "execute_result"
    }
   ],
   "source": [
    "dir(cube_vol)\n",
    "cube_vol.bit_length()"
   ]
  },
  {
   "cell_type": "code",
   "execution_count": 19,
   "id": "50fd00d2-c72f-4e0c-bbf2-1c73aeafdc1a",
   "metadata": {},
   "outputs": [
    {
     "data": {
      "text/plain": [
       "9"
      ]
     },
     "execution_count": 19,
     "metadata": {},
     "output_type": "execute_result"
    }
   ],
   "source": [
    "side_area = side * side\n",
    "side_area"
   ]
  },
  {
   "cell_type": "code",
   "execution_count": 20,
   "id": "ba3b5a87-7f98-43fc-9ff3-51d07b1cf529",
   "metadata": {},
   "outputs": [
    {
     "data": {
      "text/plain": [
       "54"
      ]
     },
     "execution_count": 20,
     "metadata": {},
     "output_type": "execute_result"
    }
   ],
   "source": [
    "cube_area = side_area * 6\n",
    "cube_area"
   ]
  },
  {
   "cell_type": "code",
   "execution_count": 21,
   "id": "1a3c279e-e983-408c-acd9-bb414d085a25",
   "metadata": {},
   "outputs": [
    {
     "data": {
      "text/plain": [
       "54"
      ]
     },
     "execution_count": 21,
     "metadata": {},
     "output_type": "execute_result"
    }
   ],
   "source": [
    "cube_area = side ** 2 * 6\n",
    "cube_area"
   ]
  },
  {
   "cell_type": "markdown",
   "id": "59dd58a1-a4f5-4589-9bad-d15aad8938b7",
   "metadata": {},
   "source": [
    "Floating point arithmetic}"
   ]
  },
  {
   "cell_type": "code",
   "execution_count": 22,
   "id": "2fc0d2fe-cc18-47ff-b803-5d78f2b277b6",
   "metadata": {},
   "outputs": [
    {
     "data": {
      "text/plain": [
       "2.4"
      ]
     },
     "execution_count": 22,
     "metadata": {},
     "output_type": "execute_result"
    }
   ],
   "source": [
    "pen = 1.50\n",
    "pencil = 0.90\n",
    "total = pen + pencil\n",
    "total"
   ]
  },
  {
   "cell_type": "code",
   "execution_count": 23,
   "id": "68a680f1-aed3-42eb-9f7f-36288a38a5e2",
   "metadata": {},
   "outputs": [
    {
     "data": {
      "text/plain": [
       "float"
      ]
     },
     "execution_count": 23,
     "metadata": {},
     "output_type": "execute_result"
    }
   ],
   "source": [
    "type(total)"
   ]
  },
  {
   "cell_type": "code",
   "execution_count": 26,
   "id": "4ec53538-92c2-4e49-b9e0-ce33a6e3c3c3",
   "metadata": {},
   "outputs": [
    {
     "data": {
      "text/plain": [
       "False"
      ]
     },
     "execution_count": 26,
     "metadata": {},
     "output_type": "execute_result"
    }
   ],
   "source": [
    "total.is_integer()"
   ]
  },
  {
   "cell_type": "code",
   "execution_count": 27,
   "id": "853db19f-ffcf-44b6-824e-23e99f59f67c",
   "metadata": {},
   "outputs": [],
   "source": [
    "dollar = 1.00"
   ]
  },
  {
   "cell_type": "code",
   "execution_count": 28,
   "id": "a2d4f182-2527-411e-8474-9d62d58586cc",
   "metadata": {},
   "outputs": [
    {
     "data": {
      "text/plain": [
       "True"
      ]
     },
     "execution_count": 28,
     "metadata": {},
     "output_type": "execute_result"
    }
   ],
   "source": [
    "dollar.is_integer()"
   ]
  },
  {
   "cell_type": "code",
   "execution_count": 29,
   "id": "b7133a12-11ba-42bd-8856-f7a030a017ea",
   "metadata": {},
   "outputs": [
    {
     "data": {
      "text/plain": [
       "float"
      ]
     },
     "execution_count": 29,
     "metadata": {},
     "output_type": "execute_result"
    }
   ],
   "source": [
    "type(dollar)"
   ]
  },
  {
   "cell_type": "code",
   "execution_count": 30,
   "id": "4ba98195-0423-4153-8944-1ff94dc672c6",
   "metadata": {},
   "outputs": [
    {
     "data": {
      "text/plain": [
       "0.5"
      ]
     },
     "execution_count": 30,
     "metadata": {},
     "output_type": "execute_result"
    }
   ],
   "source": [
    "half = 1/2\n",
    "half"
   ]
  },
  {
   "cell_type": "code",
   "execution_count": 31,
   "id": "dc2d3652-6b6c-49e4-a32e-fff978832fe3",
   "metadata": {},
   "outputs": [],
   "source": [
    "big_half = 4//2"
   ]
  },
  {
   "cell_type": "code",
   "execution_count": 32,
   "id": "be4a0add-5ed6-42e7-aae9-53c3a4b40a3f",
   "metadata": {},
   "outputs": [
    {
     "data": {
      "text/plain": [
       "2"
      ]
     },
     "execution_count": 32,
     "metadata": {},
     "output_type": "execute_result"
    }
   ],
   "source": [
    "big_half"
   ]
  },
  {
   "cell_type": "code",
   "execution_count": 33,
   "id": "fd472147-ca38-4ff1-99e9-e908c28a57c7",
   "metadata": {},
   "outputs": [
    {
     "data": {
      "text/plain": [
       "int"
      ]
     },
     "execution_count": 33,
     "metadata": {},
     "output_type": "execute_result"
    }
   ],
   "source": [
    " type(big_half)"
   ]
  },
  {
   "cell_type": "code",
   "execution_count": 34,
   "id": "e88c6ab1-a3ce-42b8-89ee-3b5ee93b50dc",
   "metadata": {},
   "outputs": [
    {
     "data": {
      "text/plain": [
       "2.4"
      ]
     },
     "execution_count": 34,
     "metadata": {},
     "output_type": "execute_result"
    }
   ],
   "source": [
    "items = (pen, pencil)\n",
    "total = sum(items)\n",
    "total"
   ]
  },
  {
   "cell_type": "code",
   "execution_count": 38,
   "id": "45d77d66-b0c0-4b6c-93e6-2d8b25f3143e",
   "metadata": {},
   "outputs": [
    {
     "data": {
      "text/plain": [
       "1.2"
      ]
     },
     "execution_count": 38,
     "metadata": {},
     "output_type": "execute_result"
    }
   ],
   "source": [
    "import numpy as np\n",
    "average = np.mean(items)\n",
    "average"
   ]
  },
  {
   "cell_type": "markdown",
   "id": "61183f24-b463-4d83-8e71-f3e6954c75d0",
   "metadata": {},
   "source": [
    "Printing numbers"
   ]
  },
  {
   "cell_type": "code",
   "execution_count": 39,
   "id": "4c8f3a38-3181-4fab-bf88-f17a4cee1e94",
   "metadata": {},
   "outputs": [
    {
     "name": "stdout",
     "output_type": "stream",
     "text": [
      "54 0.9\n"
     ]
    }
   ],
   "source": [
    "print(cube_area, pencil)"
   ]
  },
  {
   "cell_type": "code",
   "execution_count": 40,
   "id": "60d18d46-ca5b-4c6d-8361-d16e5d7ad0c6",
   "metadata": {},
   "outputs": [
    {
     "name": "stdout",
     "output_type": "stream",
     "text": [
      "Cube Area: 54, Pencil price 0.900000\n"
     ]
    }
   ],
   "source": [
    "print('Cube Area: %d, Pencil price %f' % (cube_area,pencil))"
   ]
  },
  {
   "cell_type": "code",
   "execution_count": 41,
   "id": "42c7379e-6205-480e-93bc-461294c2e651",
   "metadata": {},
   "outputs": [
    {
     "name": "stdout",
     "output_type": "stream",
     "text": [
      "Cube Area: 54, Pencil price 9.000000E-01\n"
     ]
    }
   ],
   "source": [
    "print('Cube Area: {0:d}, Pencil price {1:E}'.format(cube_area, pencil))"
   ]
  },
  {
   "cell_type": "code",
   "execution_count": null,
   "id": "614f23d6-a1e0-4daa-8167-fc97009eebb3",
   "metadata": {},
   "outputs": [],
   "source": []
  },
  {
   "cell_type": "markdown",
   "id": "bd3acbcd-f44b-4a1e-8e8c-123d23e8d145",
   "metadata": {},
   "source": [
    "E stands for exponent or scientific notation.\n",
    "Indeed 0.0 is 9 * 10 ** (-1) or 9 over 10."
   ]
  },
  {
   "cell_type": "code",
   "execution_count": null,
   "id": "8e2a78ac-3f07-46bc-b5da-5ba6d144eb8a",
   "metadata": {},
   "outputs": [],
   "source": []
  }
 ],
 "metadata": {
  "kernelspec": {
   "display_name": "Python 3 (ipykernel)",
   "language": "python",
   "name": "python3"
  },
  "language_info": {
   "codemirror_mode": {
    "name": "ipython",
    "version": 3
   },
   "file_extension": ".py",
   "mimetype": "text/x-python",
   "name": "python",
   "nbconvert_exporter": "python",
   "pygments_lexer": "ipython3",
   "version": "3.10.7"
  }
 },
 "nbformat": 4,
 "nbformat_minor": 5
}
