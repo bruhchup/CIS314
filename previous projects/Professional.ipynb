{
 "cells": [
  {
   "cell_type": "markdown",
   "id": "dfe27b4a-cdce-4456-9a97-e1d331b5cf40",
   "metadata": {},
   "source": [
    "# Professional\n",
    "\n",
    "How to make a professional package of math functions."
   ]
  },
  {
   "cell_type": "code",
   "execution_count": 1,
   "id": "f00961fe-d081-4286-8de7-17267f4f2441",
   "metadata": {},
   "outputs": [],
   "source": [
    "# import a package - that is the python word for a directory\n",
    "\n",
    "import MyPackage"
   ]
  },
  {
   "cell_type": "code",
   "execution_count": 2,
   "id": "fd39245d-8e8d-40a9-b7c7-4367b4e705ec",
   "metadata": {},
   "outputs": [
    {
     "name": "stdout",
     "output_type": "stream",
     "text": [
      "Help on package MyPackage:\n",
      "\n",
      "NAME\n",
      "    MyPackage\n",
      "\n",
      "PACKAGE CONTENTS\n",
      "    MyModule\n",
      "\n",
      "FILE\n",
      "    (built-in)\n",
      "\n",
      "\n"
     ]
    }
   ],
   "source": [
    "help(MyPackage)"
   ]
  },
  {
   "cell_type": "code",
   "execution_count": 3,
   "id": "62e5ed52-2a23-4a93-94aa-9c27c69cac5d",
   "metadata": {},
   "outputs": [],
   "source": [
    "from MyPackage import MyModule"
   ]
  },
  {
   "cell_type": "code",
   "execution_count": 4,
   "id": "fb12b8ef-3a0b-481d-9889-c63bafb2ba78",
   "metadata": {},
   "outputs": [
    {
     "name": "stdout",
     "output_type": "stream",
     "text": [
      "Help on module MyPackage.MyModule in MyPackage:\n",
      "\n",
      "NAME\n",
      "    MyPackage.MyModule - This is my module\n",
      "\n",
      "FUNCTIONS\n",
      "    MyFunction()\n",
      "        This is my function\n",
      "\n",
      "FILE\n",
      "    c:\\users\\hayde\\documents\\cis314\\mypackage\\mymodule.py\n",
      "\n",
      "\n"
     ]
    }
   ],
   "source": [
    "help(MyModule)"
   ]
  },
  {
   "cell_type": "code",
   "execution_count": 5,
   "id": "2d41c2ac-5f86-4408-9637-ad46a1215558",
   "metadata": {},
   "outputs": [
    {
     "name": "stdout",
     "output_type": "stream",
     "text": [
      "This is my function!\n"
     ]
    }
   ],
   "source": [
    "MyModule.MyFunction()"
   ]
  },
  {
   "cell_type": "code",
   "execution_count": 6,
   "id": "0477042f-fd78-4d03-be30-141e080235f9",
   "metadata": {},
   "outputs": [],
   "source": [
    "from MyPackage.MyModule import MyFunction"
   ]
  },
  {
   "cell_type": "code",
   "execution_count": 7,
   "id": "23225530-eebb-4f19-bffe-4fc0b02a02a8",
   "metadata": {},
   "outputs": [
    {
     "name": "stdout",
     "output_type": "stream",
     "text": [
      "This is my function!\n"
     ]
    }
   ],
   "source": [
    "MyFunction()"
   ]
  },
  {
   "cell_type": "code",
   "execution_count": 8,
   "id": "a7f477e5-3cd9-49e3-8ef9-5c00cc211cb4",
   "metadata": {},
   "outputs": [],
   "source": [
    "from MyPackage.MyModule import MyFunction as mf"
   ]
  },
  {
   "cell_type": "code",
   "execution_count": 9,
   "id": "d70ec979-5895-4d08-bdc2-4a6fbf594f20",
   "metadata": {},
   "outputs": [
    {
     "name": "stdout",
     "output_type": "stream",
     "text": [
      "This is my function!\n"
     ]
    }
   ],
   "source": [
    "mf()"
   ]
  },
  {
   "cell_type": "code",
   "execution_count": 10,
   "id": "8540688c-7566-486f-820f-b87ef1aa9ec0",
   "metadata": {},
   "outputs": [
    {
     "name": "stdout",
     "output_type": "stream",
     "text": [
      "Help on function MyFunction in module MyPackage.MyModule:\n",
      "\n",
      "MyFunction()\n",
      "    This is my function\n",
      "\n"
     ]
    }
   ],
   "source": [
    "help(mf)"
   ]
  },
  {
   "cell_type": "code",
   "execution_count": null,
   "id": "0b1dcf5c-dfbe-45e5-b121-04db5a519ec4",
   "metadata": {},
   "outputs": [],
   "source": []
  }
 ],
 "metadata": {
  "kernelspec": {
   "display_name": "Python 3 (ipykernel)",
   "language": "python",
   "name": "python3"
  },
  "language_info": {
   "codemirror_mode": {
    "name": "ipython",
    "version": 3
   },
   "file_extension": ".py",
   "mimetype": "text/x-python",
   "name": "python",
   "nbconvert_exporter": "python",
   "pygments_lexer": "ipython3",
   "version": "3.10.7"
  }
 },
 "nbformat": 4,
 "nbformat_minor": 5
}
