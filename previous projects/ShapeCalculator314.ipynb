{
 "cells": [
  {
   "cell_type": "markdown",
   "id": "703d8611-6ee5-49e9-a9aa-be3e6ec63f4c",
   "metadata": {},
   "source": [
    "Pemdas:\n",
    "\n",
    "    What is this value?\n",
    "    (3+4) * (5+6)\n",
    "    \n",
    "    What is this value?\n",
    "    3+4*5+6"
   ]
  },
  {
   "cell_type": "code",
   "execution_count": 2,
   "id": "cb56fed9-ae83-49de-b8b2-7d967dd12f76",
   "metadata": {},
   "outputs": [
    {
     "data": {
      "text/plain": [
       "77"
      ]
     },
     "execution_count": 2,
     "metadata": {},
     "output_type": "execute_result"
    }
   ],
   "source": [
    "x = (3+4)*(5+6)\n",
    "x"
   ]
  },
  {
   "cell_type": "code",
   "execution_count": 3,
   "id": "fdb528be-847b-4a72-a8bf-4f6fe73c0558",
   "metadata": {},
   "outputs": [
    {
     "data": {
      "text/plain": [
       "29"
      ]
     },
     "execution_count": 3,
     "metadata": {},
     "output_type": "execute_result"
    }
   ],
   "source": [
    "x = 3+4*5+6\n",
    "x"
   ]
  },
  {
   "cell_type": "markdown",
   "id": "009582d2-73e9-4e34-9348-251168c44660",
   "metadata": {},
   "source": [
    "Exponents"
   ]
  },
  {
   "cell_type": "code",
   "execution_count": 4,
   "id": "e7381cfd-bf05-4682-b9d9-1b0e46a7ddf6",
   "metadata": {},
   "outputs": [
    {
     "data": {
      "text/plain": [
       "16"
      ]
     },
     "execution_count": 4,
     "metadata": {},
     "output_type": "execute_result"
    }
   ],
   "source": [
    "# Square:\n",
    "x = 4 ** 2\n",
    "x"
   ]
  },
  {
   "cell_type": "code",
   "execution_count": 5,
   "id": "d7edc88d-449c-4506-9ea2-45b43123002d",
   "metadata": {},
   "outputs": [
    {
     "data": {
      "text/plain": [
       "4.0"
      ]
     },
     "execution_count": 5,
     "metadata": {},
     "output_type": "execute_result"
    }
   ],
   "source": [
    "# Square root\n",
    "x = 16 ** (1/2)\n",
    "x"
   ]
  },
  {
   "cell_type": "code",
   "execution_count": 6,
   "id": "a67f51bd-7468-44a3-a866-05018cdc13a1",
   "metadata": {},
   "outputs": [
    {
     "data": {
      "text/plain": [
       "4"
      ]
     },
     "execution_count": 6,
     "metadata": {},
     "output_type": "execute_result"
    }
   ],
   "source": [
    "import math\n",
    "x = int(math.sqrt(16))\n",
    "x"
   ]
  },
  {
   "cell_type": "code",
   "execution_count": 7,
   "id": "65e0108a-70b9-4872-9d9e-c32822a01d46",
   "metadata": {},
   "outputs": [
    {
     "data": {
      "text/plain": [
       "3.141592653589793"
      ]
     },
     "execution_count": 7,
     "metadata": {},
     "output_type": "execute_result"
    }
   ],
   "source": [
    "math.pi"
   ]
  },
  {
   "cell_type": "code",
   "execution_count": 10,
   "id": "7134cf3c-505f-4486-8678-6505ab4cf57c",
   "metadata": {},
   "outputs": [
    {
     "data": {
      "text/plain": [
       "314.1592653589793"
      ]
     },
     "execution_count": 10,
     "metadata": {},
     "output_type": "execute_result"
    }
   ],
   "source": [
    "radius = 10\n",
    "area = math.pi * radius ** 2\n",
    "area"
   ]
  },
  {
   "cell_type": "markdown",
   "id": "ec9cd064-7bc1-41a6-9cb5-0ae401449cd1",
   "metadata": {},
   "source": [
    "Circle geometry"
   ]
  },
  {
   "cell_type": "code",
   "execution_count": 11,
   "id": "704a7414-7b79-4b0b-823d-2c004e9feb99",
   "metadata": {},
   "outputs": [],
   "source": [
    "radius = 10\n",
    "area = math.pi * radius ** 2"
   ]
  },
  {
   "cell_type": "code",
   "execution_count": 12,
   "id": "dc38bbea-35c1-4092-bc02-9ccc6d1054ed",
   "metadata": {},
   "outputs": [
    {
     "name": "stdout",
     "output_type": "stream",
     "text": [
      "area =  314.1592653589793\n",
      "circumference =  62.83185307179586\n"
     ]
    }
   ],
   "source": [
    "radius = 10\n",
    "area = math.pi * radius ** 2\n",
    "diameter = 2 * radius\n",
    "circumference = math.pi * diameter\n",
    "print('area = ', area)\n",
    "print('circumference = ', circumference)"
   ]
  },
  {
   "cell_type": "code",
   "execution_count": 13,
   "id": "1e6969b2-749c-407a-a699-07469b39924c",
   "metadata": {},
   "outputs": [
    {
     "data": {
      "text/plain": [
       "17.5"
      ]
     },
     "execution_count": 13,
     "metadata": {},
     "output_type": "execute_result"
    }
   ],
   "source": [
    "base = 5\n",
    "height = 7\n",
    "area = base * height * 1/2\n",
    "area"
   ]
  },
  {
   "cell_type": "code",
   "execution_count": 14,
   "id": "603d8c76-acaa-4738-b17a-7ec410decfe4",
   "metadata": {},
   "outputs": [
    {
     "name": "stdout",
     "output_type": "stream",
     "text": [
      "area =  17.5\n"
     ]
    }
   ],
   "source": [
    "base = 5\n",
    "height = 7\n",
    "area = base * height * 1/2\n",
    "print ('area = ', area)"
   ]
  },
  {
   "cell_type": "code",
   "execution_count": 15,
   "id": "ee1f57b7-9c19-429c-a2fd-01908e32b417",
   "metadata": {},
   "outputs": [
    {
     "name": "stdout",
     "output_type": "stream",
     "text": [
      "sides:  3 4\n",
      "hypotenuse:  5.0\n"
     ]
    }
   ],
   "source": [
    "# right triangle has one 90 degree angle\n",
    "# Pythagorean theorem applies to right triangles.\n",
    "# Let's try the famous 3 4 5 triangle.\n",
    "a = 3\n",
    "b = 4\n",
    "asquare = a**2\n",
    "bsquare = b**2\n",
    "sumofsquares = asquare + bsquare\n",
    "root = sumofsquares ** (1/2)\n",
    "c = root\n",
    "print('sides: ', a, b)\n",
    "print('hypotenuse: ', c)"
   ]
  },
  {
   "cell_type": "markdown",
   "id": "871e67bd-26db-4be4-9efa-c34138a703cf",
   "metadata": {},
   "source": [
    "Rectangle geometry"
   ]
  },
  {
   "cell_type": "code",
   "execution_count": 16,
   "id": "6bfe2bbf-1c75-4a7b-8637-28fbefbf52c7",
   "metadata": {},
   "outputs": [
    {
     "name": "stdout",
     "output_type": "stream",
     "text": [
      "base and height:  3 4\n",
      "perimeter =  14\n"
     ]
    }
   ],
   "source": [
    "base = 3\n",
    "height = 4\n",
    "perimeter = (base * 2) + (height * 2)\n",
    "print ('base and height: ', base, height)\n",
    "print ('perimeter = ', perimeter)"
   ]
  },
  {
   "cell_type": "code",
   "execution_count": null,
   "id": "b673b6ee-a0d8-403d-9911-646d5edd2e27",
   "metadata": {},
   "outputs": [],
   "source": []
  }
 ],
 "metadata": {
  "kernelspec": {
   "display_name": "Python 3 (ipykernel)",
   "language": "python",
   "name": "python3"
  },
  "language_info": {
   "codemirror_mode": {
    "name": "ipython",
    "version": 3
   },
   "file_extension": ".py",
   "mimetype": "text/x-python",
   "name": "python",
   "nbconvert_exporter": "python",
   "pygments_lexer": "ipython3",
   "version": "3.10.7"
  }
 },
 "nbformat": 4,
 "nbformat_minor": 5
}
