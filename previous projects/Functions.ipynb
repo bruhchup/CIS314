{
 "cells": [
  {
   "cell_type": "code",
   "execution_count": 20,
   "id": "a4be8927-2fd6-43b2-9499-fddb99ce3a9f",
   "metadata": {},
   "outputs": [
    {
     "name": "stdout",
     "output_type": "stream",
     "text": [
      "Hello world\n"
     ]
    }
   ],
   "source": [
    "print('Hello world')"
   ]
  },
  {
   "cell_type": "code",
   "execution_count": 21,
   "id": "1253b785-5b80-4cd0-afa1-a92ae925a786",
   "metadata": {},
   "outputs": [],
   "source": [
    "def introduce(name = 'unknown'):\n",
    "    print('Hello my name is %s' % name)"
   ]
  },
  {
   "cell_type": "code",
   "execution_count": 22,
   "id": "46211784-7b0f-4732-9885-bfd39f71e915",
   "metadata": {},
   "outputs": [
    {
     "name": "stdout",
     "output_type": "stream",
     "text": [
      "Hello my name is Hayden\n"
     ]
    }
   ],
   "source": [
    "introduce('Hayden')"
   ]
  },
  {
   "cell_type": "code",
   "execution_count": 23,
   "id": "98c01355-34d9-4bec-b891-c791edba8fdc",
   "metadata": {},
   "outputs": [
    {
     "name": "stdout",
     "output_type": "stream",
     "text": [
      "Hello my name is unknown\n"
     ]
    }
   ],
   "source": [
    "introduce()"
   ]
  },
  {
   "cell_type": "code",
   "execution_count": null,
   "id": "059d09c8-acd3-48c8-8d52-621ce4dc43de",
   "metadata": {},
   "outputs": [],
   "source": []
  }
 ],
 "metadata": {
  "kernelspec": {
   "display_name": "Python 3 (ipykernel)",
   "language": "python",
   "name": "python3"
  },
  "language_info": {
   "codemirror_mode": {
    "name": "ipython",
    "version": 3
   },
   "file_extension": ".py",
   "mimetype": "text/x-python",
   "name": "python",
   "nbconvert_exporter": "python",
   "pygments_lexer": "ipython3",
   "version": "3.10.7"
  }
 },
 "nbformat": 4,
 "nbformat_minor": 5
}
