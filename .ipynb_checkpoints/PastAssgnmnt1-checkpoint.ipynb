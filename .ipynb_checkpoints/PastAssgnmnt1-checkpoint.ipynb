{
 "cells": [
  {
   "cell_type": "code",
   "execution_count": 1,
   "id": "13b9a2ab-056a-461b-96d5-0951ae31b3c9",
   "metadata": {},
   "outputs": [],
   "source": [
    "def search(filename, elevation):\n",
    "    '''streams file, parses csv, tests for elev'''\n",
    "    filename = 'airport-codes_csv.csv'\n",
    "    with open (filename, 'r') as fin:\n",
    "        for line in fin:\n",
    "            fields = line.strip().split(',')\n",
    "            line[4]\n",
    "            if line[4] <= 120 and line[4] >= 100:\n",
    "                print(line[3])"
   ]
  },
  {
   "cell_type": "code",
   "execution_count": null,
   "id": "5370f84a-7484-47f8-a656-0fb0ec624a6b",
   "metadata": {},
   "outputs": [],
   "source": []
  }
 ],
 "metadata": {
  "kernelspec": {
   "display_name": "Python 3 (ipykernel)",
   "language": "python",
   "name": "python3"
  },
  "language_info": {
   "codemirror_mode": {
    "name": "ipython",
    "version": 3
   },
   "file_extension": ".py",
   "mimetype": "text/x-python",
   "name": "python",
   "nbconvert_exporter": "python",
   "pygments_lexer": "ipython3",
   "version": "3.10.8"
  }
 },
 "nbformat": 4,
 "nbformat_minor": 5
}
