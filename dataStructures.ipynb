{
 "cells": [
  {
   "cell_type": "markdown",
   "metadata": {},
   "source": [
    "# Stack and Queue"
   ]
  },
  {
   "cell_type": "code",
   "execution_count": 31,
   "metadata": {},
   "outputs": [],
   "source": [
    "import queue as Q"
   ]
  },
  {
   "cell_type": "code",
   "execution_count": 32,
   "metadata": {},
   "outputs": [],
   "source": [
    "def disgorge_all(data_struct):\n",
    "    if data_struct.empty():\n",
    "        print('empty')\n",
    "        return\n",
    "    else:\n",
    "        dish = data_struct.get()\n",
    "        print(dish)"
   ]
  },
  {
   "cell_type": "code",
   "execution_count": 33,
   "metadata": {},
   "outputs": [
    {
     "name": "stdout",
     "output_type": "stream",
     "text": [
      "<queue.LifoQueue object at 0x000002527C12CD60>\n",
      "<class 'queue.LifoQueue'>\n"
     ]
    }
   ],
   "source": [
    "myStack = Q.LifoQueue()\n",
    "print(myStack)\n",
    "print(type(myStack))"
   ]
  },
  {
   "cell_type": "code",
   "execution_count": 34,
   "metadata": {},
   "outputs": [],
   "source": [
    "def serve_food(data_struct):\n",
    "    data_struct.put('salad')\n",
    "    data_struct.put('burger')\n",
    "    data_struct.put('fries')\n",
    "    data_struct.put('pie')"
   ]
  },
  {
   "cell_type": "code",
   "execution_count": 35,
   "metadata": {},
   "outputs": [
    {
     "name": "stdout",
     "output_type": "stream",
     "text": [
      "Stack reverses the order!\n"
     ]
    }
   ],
   "source": [
    "\n",
    "\n",
    "print('Stack reverses the order!')\n",
    "while not myStack.empty():\n",
    "    dish = myStack.get()\n",
    "    print(dish)"
   ]
  },
  {
   "cell_type": "code",
   "execution_count": 36,
   "metadata": {},
   "outputs": [
    {
     "name": "stdout",
     "output_type": "stream",
     "text": [
      "<queue.Queue object at 0x000002527D2C9390>\n",
      "<class 'queue.Queue'>\n"
     ]
    }
   ],
   "source": [
    "myQueue = Q.Queue()\n",
    "print(myQueue)\n",
    "print(type(myQueue))"
   ]
  },
  {
   "cell_type": "code",
   "execution_count": 37,
   "metadata": {},
   "outputs": [],
   "source": [
    "myQueue.put('salad')\n",
    "myQueue.put('burger')\n",
    "myQueue.put('fries')\n",
    "myQueue.put('pie')"
   ]
  },
  {
   "cell_type": "code",
   "execution_count": 38,
   "metadata": {},
   "outputs": [
    {
     "name": "stdout",
     "output_type": "stream",
     "text": [
      "salad\n",
      "burger\n",
      "fries\n",
      "pie\n"
     ]
    }
   ],
   "source": [
    "while not myQueue.empty():\n",
    "    dish = myQueue.get()\n",
    "    print(dish)"
   ]
  },
  {
   "cell_type": "code",
   "execution_count": 39,
   "metadata": {},
   "outputs": [],
   "source": [
    "def shepStack(d):\n",
    "    print(d)\n",
    "    while not d.empty():\n",
    "        letter = d.get()\n",
    "        print(letter)"
   ]
  },
  {
   "cell_type": "code",
   "execution_count": 40,
   "metadata": {},
   "outputs": [
    {
     "name": "stdout",
     "output_type": "stream",
     "text": [
      "<queue.LifoQueue object at 0x000002527D289DB0>\n",
      "d\n",
      "r\n",
      "e\n",
      "h\n",
      "p\n",
      "e\n",
      "h\n",
      "S\n"
     ]
    }
   ],
   "source": [
    "s = 'Shepherd'\n",
    "queue = Q.LifoQueue()\n",
    "\n",
    "for letter in s:\n",
    "    queue.put(letter)\n",
    "    \n",
    "shepStack(queue)"
   ]
  },
  {
   "cell_type": "markdown",
   "metadata": {},
   "source": [
    "# Hash"
   ]
  },
  {
   "cell_type": "code",
   "execution_count": null,
   "metadata": {},
   "outputs": [],
   "source": []
  },
  {
   "cell_type": "markdown",
   "metadata": {},
   "source": [
    "Functions, Functions can have postional and named parameters, help, dir and type functions, if else branching, modules (file), documentation (doc strings), scatter plot and line plot (matplotlib), OOP ( also __func__'s), inheritance, tools (pylint, unit test), built-in structures (boolean, int , float, string, tuoke, list, set, dict), list comprehension, lambda (maybe, prolly not), deep copy, shallow copy "
   ]
  },
  {
   "cell_type": "code",
   "execution_count": 3,
   "metadata": {},
   "outputs": [
    {
     "data": {
      "text/plain": [
       "([1, 2, 3, 1], [1, 2, 3, 1], [1, 2, 3, 1])"
      ]
     },
     "execution_count": 3,
     "metadata": {},
     "output_type": "execute_result"
    }
   ],
   "source": [
    "list1 = [1,2,3]\n",
    "list2 = list1\n",
    "list2.append(1)\n",
    "list3 = list1.copy()\n",
    "\n",
    "list1, list2, list3"
   ]
  },
  {
   "cell_type": "code",
   "execution_count": null,
   "metadata": {},
   "outputs": [],
   "source": [
    "s"
   ]
  }
 ],
 "metadata": {
  "kernelspec": {
   "display_name": "Python 3",
   "language": "python",
   "name": "python3"
  },
  "language_info": {
   "codemirror_mode": {
    "name": "ipython",
    "version": 3
   },
   "file_extension": ".py",
   "mimetype": "text/x-python",
   "name": "python",
   "nbconvert_exporter": "python",
   "pygments_lexer": "ipython3",
   "version": "3.10.8"
  }
 },
 "nbformat": 4,
 "nbformat_minor": 2
}
