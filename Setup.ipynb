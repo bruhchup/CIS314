{
 "cells": [
  {
   "cell_type": "raw",
   "id": "185c5fa0-a1d3-4a18-a100-ce14335c6a91",
   "metadata": {},
   "source": [
    "Write a setup program in Python.\n",
    "Ask the user first!\n",
    "make this system of files\n",
    "./Zoo\n",
    "./Zoo/Animals\n",
    "./Zoo/Animals/Animal1.txt <- contains \"Horse\"\n",
    "             /Animal2.txt\n",
    "./Zoo/Plants\n",
    "    \"    \"  /Plants1.txt <- contains \"Tulip\"\n",
    "    \"    \"  /Plants2.txt"
   ]
  },
  {
   "cell_type": "code",
   "execution_count": 1,
   "id": "c3c93b9d-08cf-4a24-84c9-991a4ba091a3",
   "metadata": {},
   "outputs": [],
   "source": [
    "import os"
   ]
  },
  {
   "cell_type": "code",
   "execution_count": 2,
   "id": "ed02abab-fa5d-4c23-9e62-c13d939d7131",
   "metadata": {},
   "outputs": [
    {
     "data": {
      "text/plain": [
       "'C:\\\\Users\\\\hayde\\\\Documents\\\\CIS_314'"
      ]
     },
     "execution_count": 2,
     "metadata": {},
     "output_type": "execute_result"
    }
   ],
   "source": [
    "os.getcwd()"
   ]
  },
  {
   "cell_type": "code",
   "execution_count": 6,
   "id": "f28cc2ea-95d0-4456-855a-1aa54e5bce20",
   "metadata": {},
   "outputs": [
    {
     "ename": "FileExistsError",
     "evalue": "[WinError 183] Cannot create a file when that file already exists: 'Zoo'",
     "output_type": "error",
     "traceback": [
      "\u001b[1;31m---------------------------------------------------------------------------\u001b[0m",
      "\u001b[1;31mFileExistsError\u001b[0m                           Traceback (most recent call last)",
      "Cell \u001b[1;32mIn[6], line 2\u001b[0m\n\u001b[0;32m      1\u001b[0m directory \u001b[38;5;241m=\u001b[39m os\u001b[38;5;241m.\u001b[39mgetcwd()\n\u001b[1;32m----> 2\u001b[0m \u001b[43mos\u001b[49m\u001b[38;5;241;43m.\u001b[39;49m\u001b[43mmkdir\u001b[49m\u001b[43m(\u001b[49m\u001b[38;5;124;43m'\u001b[39;49m\u001b[38;5;124;43mZoo\u001b[39;49m\u001b[38;5;124;43m'\u001b[39;49m\u001b[43m)\u001b[49m\n\u001b[0;32m      3\u001b[0m os\u001b[38;5;241m.\u001b[39mmkdir(\u001b[38;5;124m'\u001b[39m\u001b[38;5;124mZoo/Animals\u001b[39m\u001b[38;5;124m'\u001b[39m)\n",
      "\u001b[1;31mFileExistsError\u001b[0m: [WinError 183] Cannot create a file when that file already exists: 'Zoo'"
     ]
    }
   ],
   "source": [
    "directory = os.getcwd()\n",
    "os.mkdir('Zoo')"
   ]
  },
  {
   "cell_type": "code",
   "execution_count": 10,
   "id": "83f90001-2bed-44b8-8805-7d3aa51decd8",
   "metadata": {},
   "outputs": [],
   "source": [
    "\n",
    "os.chdir('Zoo/Animals')"
   ]
  },
  {
   "cell_type": "code",
   "execution_count": 11,
   "id": "6785f5aa-35d4-4e25-a111-82e254f77916",
   "metadata": {},
   "outputs": [],
   "source": [
    "with open ('Animals.txt', 'w') as fout:\n",
    "    fout.write('Horse\\n')"
   ]
  },
  {
   "cell_type": "code",
   "execution_count": null,
   "id": "ae52c416-d293-4ab1-9aeb-0ccece082738",
   "metadata": {},
   "outputs": [],
   "source": []
  }
 ],
 "metadata": {
  "kernelspec": {
   "display_name": "Python 3 (ipykernel)",
   "language": "python",
   "name": "python3"
  },
  "language_info": {
   "codemirror_mode": {
    "name": "ipython",
    "version": 3
   },
   "file_extension": ".py",
   "mimetype": "text/x-python",
   "name": "python",
   "nbconvert_exporter": "python",
   "pygments_lexer": "ipython3",
   "version": "3.10.8"
  }
 },
 "nbformat": 4,
 "nbformat_minor": 5
}
