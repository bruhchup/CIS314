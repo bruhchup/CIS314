{
 "cells": [
  {
   "cell_type": "markdown",
   "id": "c1529e88-e03b-42f4-bca7-6cf20dbcbc32",
   "metadata": {},
   "source": [
    "# Unit Conversion"
   ]
  },
  {
   "cell_type": "code",
   "execution_count": 1,
   "id": "b4d389af-3c45-45e9-9cbd-27c0f38295f0",
   "metadata": {},
   "outputs": [
    {
     "data": {
      "text/plain": [
       "7.62"
      ]
     },
     "execution_count": 1,
     "metadata": {},
     "output_type": "execute_result"
    }
   ],
   "source": [
    "inches = 3\n",
    "cm = inches * 2.54\n",
    "cm"
   ]
  },
  {
   "cell_type": "code",
   "execution_count": 2,
   "id": "301b7573-c182-4d88-9e38-055adb74dcce",
   "metadata": {},
   "outputs": [],
   "source": [
    "import conversion as c"
   ]
  },
  {
   "cell_type": "code",
   "execution_count": 8,
   "id": "8ba46d4f-f8d9-41c7-bca6-36a9c1b89afc",
   "metadata": {},
   "outputs": [
    {
     "name": "stdout",
     "output_type": "stream",
     "text": [
      "Help on module conversion:\n",
      "\n",
      "NAME\n",
      "    conversion\n",
      "\n",
      "FUNCTIONS\n",
      "    in_to_cm(i)\n",
      "\n",
      "FILE\n",
      "    c:\\users\\hayde\\documents\\cis_314\\conversion.py\n",
      "\n",
      "\n"
     ]
    }
   ],
   "source": [
    "help(c)"
   ]
  },
  {
   "cell_type": "code",
   "execution_count": 9,
   "id": "2b3ff3bd-82d6-49df-8010-e528ab301f72",
   "metadata": {},
   "outputs": [
    {
     "name": "stdout",
     "output_type": "stream",
     "text": [
      "Help on function in_to_cm in module conversion:\n",
      "\n",
      "in_to_cm(i)\n",
      "\n"
     ]
    }
   ],
   "source": [
    "help(c.in_to_cm)"
   ]
  },
  {
   "cell_type": "code",
   "execution_count": null,
   "id": "f2929614-b1a1-4abf-8c1f-4fa7e454523e",
   "metadata": {},
   "outputs": [],
   "source": []
  }
 ],
 "metadata": {
  "kernelspec": {
   "display_name": "Python 3 (ipykernel)",
   "language": "python",
   "name": "python3"
  },
  "language_info": {
   "codemirror_mode": {
    "name": "ipython",
    "version": 3
   },
   "file_extension": ".py",
   "mimetype": "text/x-python",
   "name": "python",
   "nbconvert_exporter": "python",
   "pygments_lexer": "ipython3",
   "version": "3.10.8"
  }
 },
 "nbformat": 4,
 "nbformat_minor": 5
}
