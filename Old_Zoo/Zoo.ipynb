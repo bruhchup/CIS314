{
 "cells": [
  {
   "cell_type": "markdown",
   "id": "affe400c-4eee-4c4e-9a5f-dcd7ba04b062",
   "metadata": {},
   "source": [
    "# Zoo\n",
    "Download and expand the Zoo.zip file from Brightspace.\n",
    "It will create the Zoo directory, with two subdirectories, and two files in each subdirectory."
   ]
  },
  {
   "cell_type": "code",
   "execution_count": 1,
   "id": "d8d192a6-4a42-49d9-b5a3-c1d6af5dd4eb",
   "metadata": {},
   "outputs": [],
   "source": [
    "import os\n",
    "import shutil"
   ]
  },
  {
   "cell_type": "markdown",
   "id": "e387d84e-e36b-4561-bc3d-ec349d01e4ca",
   "metadata": {},
   "source": [
    "## Explore the current working directory"
   ]
  },
  {
   "cell_type": "code",
   "execution_count": 2,
   "id": "c66abed6-6d20-4ba6-8a10-c76bd7c48a31",
   "metadata": {},
   "outputs": [
    {
     "name": "stdout",
     "output_type": "stream",
     "text": [
      "['PlotHW', '.DS_Store', 'SecondLargest.ipynb', 'MyPackage', 'ArrayTraversal', 'Zoo.ipynb', 'Goddot.ArrayTraversal.ipynb', 'ArraysClasses', 'Zoo', 'MoreRandom.ipynb', 'pm25_beijing_table_7-7.csv', '.ipynb_checkpoints', 'AirQuality.ipynb', 'OODHW', 'Notebooks', 'Airports', 'Histogram']\n"
     ]
    }
   ],
   "source": [
    "\n",
    "print (os.listdir('.'))"
   ]
  },
  {
   "cell_type": "code",
   "execution_count": 3,
   "id": "4fe792c3-4fb0-44ce-b28a-d63d43756bb6",
   "metadata": {},
   "outputs": [
    {
     "name": "stdout",
     "output_type": "stream",
     "text": [
      "/Users/jasonmiller/Documents/CIS314\n"
     ]
    }
   ],
   "source": [
    "print (os.getcwd() )"
   ]
  },
  {
   "cell_type": "markdown",
   "id": "8591c6e9-7f1a-4e70-970e-58d2d4d622e0",
   "metadata": {},
   "source": [
    "## Look at subdirectories"
   ]
  },
  {
   "cell_type": "code",
   "execution_count": 4,
   "id": "9362d5bc-1cce-4bf0-b3ef-6ab15a3cce7b",
   "metadata": {},
   "outputs": [
    {
     "data": {
      "text/plain": [
       "['Plants', 'Animals']"
      ]
     },
     "execution_count": 4,
     "metadata": {},
     "output_type": "execute_result"
    }
   ],
   "source": [
    "os.listdir('Zoo')"
   ]
  },
  {
   "cell_type": "code",
   "execution_count": 14,
   "id": "2cd8715e-cd7b-4a44-93b9-ffe2e0a4478e",
   "metadata": {},
   "outputs": [
    {
     "data": {
      "text/plain": [
       "['Animals1.csv', 'Animals2.csv']"
      ]
     },
     "execution_count": 14,
     "metadata": {},
     "output_type": "execute_result"
    }
   ],
   "source": [
    "# This is bad. You should avoid slashes in Python. It might not work on another O/S. \n",
    "os.listdir('Zoo/Animals')"
   ]
  },
  {
   "cell_type": "code",
   "execution_count": 6,
   "id": "86a038ec-75dc-4ba6-abb7-b2a1b7c8888c",
   "metadata": {},
   "outputs": [
    {
     "name": "stdout",
     "output_type": "stream",
     "text": [
      "Zoo/Animals\n"
     ]
    }
   ],
   "source": [
    "mypath = os.path.join(\"Zoo\", \"Animals\")\n",
    "print(mypath)"
   ]
  },
  {
   "cell_type": "code",
   "execution_count": 15,
   "id": "c405bb5a-c16d-4674-8e92-7b732fe19f9e",
   "metadata": {},
   "outputs": [
    {
     "data": {
      "text/plain": [
       "['Animals1.csv', 'Animals2.csv']"
      ]
     },
     "execution_count": 15,
     "metadata": {},
     "output_type": "execute_result"
    }
   ],
   "source": [
    "# This is better. This is the correct way to examine a directory. It works on any O/S.\n",
    "os.listdir(mypath)"
   ]
  },
  {
   "cell_type": "markdown",
   "id": "d4c78332-6d59-4392-b5d6-302400a24a29",
   "metadata": {},
   "source": [
    "## Move a file\n",
    "We will move Animals1.csv from the Animals directory to the Plants directory.\n",
    "We will do all this from inside a Python program!"
   ]
  },
  {
   "cell_type": "code",
   "execution_count": 10,
   "id": "26f02f85-4ce3-4dc6-ab93-7ddf133cb7b9",
   "metadata": {},
   "outputs": [
    {
     "name": "stdout",
     "output_type": "stream",
     "text": [
      "old Zoo/Animals/Animals1.csv\n",
      "new Zoo/Plants\n"
     ]
    }
   ],
   "source": [
    "oldpath = os.path.join(\"Zoo\", \"Animals\", \"Animals1.csv\")\n",
    "newpath = os.path.join(\"Zoo\", \"Plants\")\n",
    "print('old', oldpath)\n",
    "print('new', newpath)"
   ]
  },
  {
   "cell_type": "code",
   "execution_count": 11,
   "id": "73c1f6b6-8a8f-4d87-8faf-f30a0f5e9b3d",
   "metadata": {},
   "outputs": [
    {
     "data": {
      "text/plain": [
       "'Zoo/Plants/Animals1.csv'"
      ]
     },
     "execution_count": 11,
     "metadata": {},
     "output_type": "execute_result"
    }
   ],
   "source": [
    "shutil.move(oldpath, newpath)"
   ]
  },
  {
   "cell_type": "code",
   "execution_count": 12,
   "id": "f604ec8f-41e2-47df-879e-970a6b93476a",
   "metadata": {},
   "outputs": [
    {
     "data": {
      "text/plain": [
       "['Animals1.csv', 'Plants1.csv', 'Plants2.csv']"
      ]
     },
     "execution_count": 12,
     "metadata": {},
     "output_type": "execute_result"
    }
   ],
   "source": [
    "os.listdir(newpath)"
   ]
  },
  {
   "cell_type": "code",
   "execution_count": 13,
   "id": "1aa070c8-b268-464e-8a7e-804ac4ddfa8b",
   "metadata": {},
   "outputs": [
    {
     "data": {
      "text/plain": [
       "['Animals1.csv', 'Animals2.csv']"
      ]
     },
     "execution_count": 13,
     "metadata": {},
     "output_type": "execute_result"
    }
   ],
   "source": [
    "# now put the file back where it belongs\n",
    "oldpath = os.path.join(\"Zoo\", \"Plants\", \"Animals1.csv\")\n",
    "newpath = os.path.join(\"Zoo\", \"Animals\")\n",
    "shutil.move(oldpath, newpath)\n",
    "os.listdir(newpath)"
   ]
  },
  {
   "cell_type": "code",
   "execution_count": null,
   "id": "fbe26b04-7967-4450-837b-7f6985a318b6",
   "metadata": {},
   "outputs": [],
   "source": []
  }
 ],
 "metadata": {
  "kernelspec": {
   "display_name": "Python 3 (ipykernel)",
   "language": "python",
   "name": "python3"
  },
  "language_info": {
   "codemirror_mode": {
    "name": "ipython",
    "version": 3
   },
   "file_extension": ".py",
   "mimetype": "text/x-python",
   "name": "python",
   "nbconvert_exporter": "python",
   "pygments_lexer": "ipython3",
   "version": "3.11.6"
  }
 },
 "nbformat": 4,
 "nbformat_minor": 5
}
