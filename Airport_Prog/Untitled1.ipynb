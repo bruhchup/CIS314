{
 "cells": [
  {
   "cell_type": "code",
   "execution_count": null,
   "id": "13b9a2ab-056a-461b-96d5-0951ae31b3c9",
   "metadata": {},
   "outputs": [],
   "source": [
    "def search(filename, elevation):\n",
    "    '''streams file, parses csv, tests for elev'''\n",
    "    filename = ''\n",
    "    with open (filename, 'r') as fin:"
   ]
  }
 ],
 "metadata": {
  "kernelspec": {
   "display_name": "Python 3 (ipykernel)",
   "language": "python",
   "name": "python3"
  },
  "language_info": {
   "codemirror_mode": {
    "name": "ipython",
    "version": 3
   },
   "file_extension": ".py",
   "mimetype": "text/x-python",
   "name": "python",
   "nbconvert_exporter": "python",
   "pygments_lexer": "ipython3",
   "version": "3.10.8"
  }
 },
 "nbformat": 4,
 "nbformat_minor": 5
}
