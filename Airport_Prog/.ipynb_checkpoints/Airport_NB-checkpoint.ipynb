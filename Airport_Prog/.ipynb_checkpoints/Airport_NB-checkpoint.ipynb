{
 "cells": [
  {
   "cell_type": "code",
   "execution_count": 58,
   "id": "9e7448c0-279e-49e4-9138-01032fb0b476",
   "metadata": {},
   "outputs": [],
   "source": [
    "def search(filename,min_elev, max_elev):\n",
    "    '''streams file, parses csv, tests for elev'''\n",
    "    with open (filename, 'r', encoding = 'utf8') as fin:\n",
    "        for line in fin:\n",
    "            cities = []\n",
    "            fields = line.strip().split()\n",
    "            elev = line[3]\n",
    "            city = line[7]\n",
    "            if elev.isnumeric():\n",
    "                elev = int(elev)\n",
    "                if elev >= min_elev and elev <= max_elev:\n",
    "                    cities.append(city)\n",
    "        return cities\n",
    "        "
   ]
  },
  {
   "cell_type": "code",
   "execution_count": 60,
   "id": "b79db6b0-68fc-4fb5-acef-7ff1711bf609",
   "metadata": {},
   "outputs": [
    {
     "data": {
      "text/plain": [
       "[]"
      ]
     },
     "execution_count": 60,
     "metadata": {},
     "output_type": "execute_result"
    }
   ],
   "source": [
    "search('airport-codes_csv.csv', 100, 120)"
   ]
  },
  {
   "cell_type": "code",
   "execution_count": null,
   "id": "9f9fe5a5-b4ce-42df-87ec-168db142c831",
   "metadata": {},
   "outputs": [],
   "source": []
  }
 ],
 "metadata": {
  "kernelspec": {
   "display_name": "Python 3 (ipykernel)",
   "language": "python",
   "name": "python3"
  },
  "language_info": {
   "codemirror_mode": {
    "name": "ipython",
    "version": 3
   },
   "file_extension": ".py",
   "mimetype": "text/x-python",
   "name": "python",
   "nbconvert_exporter": "python",
   "pygments_lexer": "ipython3",
   "version": "3.10.8"
  }
 },
 "nbformat": 4,
 "nbformat_minor": 5
}
