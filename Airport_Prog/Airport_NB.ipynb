{
 "cells": [
  {
   "cell_type": "code",
   "execution_count": 63,
   "id": "9e7448c0-279e-49e4-9138-01032fb0b476",
   "metadata": {},
   "outputs": [],
   "source": [
    "def search(filename,min_elev, max_elev):\n",
    "    '''streams file, parses csv, tests for elev'''\n",
    "    with open (filename, 'r', encoding = 'utf8') as fin:\n",
    "        for line in fin:\n",
    "            cities = []\n",
    "            fields = line.strip().split()\n",
    "            elev = line[4]\n",
    "            city = line[8]\n",
    "            if elev.isnumeric():\n",
    "                elev = int(elev)\n",
    "            if elev >= min_elev and elev <= max_elev:\n",
    "                cities.append(city)\n",
    "        return cities\n",
    "        "
   ]
  },
  {
   "cell_type": "code",
   "execution_count": 64,
   "id": "b79db6b0-68fc-4fb5-acef-7ff1711bf609",
   "metadata": {},
   "outputs": [
    {
     "ename": "TypeError",
     "evalue": "'>=' not supported between instances of 'str' and 'int'",
     "output_type": "error",
     "traceback": [
      "\u001b[1;31m---------------------------------------------------------------------------\u001b[0m",
      "\u001b[1;31mTypeError\u001b[0m                                 Traceback (most recent call last)",
      "Cell \u001b[1;32mIn[64], line 1\u001b[0m\n\u001b[1;32m----> 1\u001b[0m \u001b[43msearch\u001b[49m\u001b[43m(\u001b[49m\u001b[38;5;124;43m'\u001b[39;49m\u001b[38;5;124;43mairport-codes_csv.csv\u001b[39;49m\u001b[38;5;124;43m'\u001b[39;49m\u001b[43m,\u001b[49m\u001b[43m \u001b[49m\u001b[38;5;241;43m100\u001b[39;49m\u001b[43m,\u001b[49m\u001b[43m \u001b[49m\u001b[38;5;241;43m120\u001b[39;49m\u001b[43m)\u001b[49m\n",
      "Cell \u001b[1;32mIn[63], line 11\u001b[0m, in \u001b[0;36msearch\u001b[1;34m(filename, min_elev, max_elev)\u001b[0m\n\u001b[0;32m      9\u001b[0m     \u001b[38;5;28;01mif\u001b[39;00m elev\u001b[38;5;241m.\u001b[39misnumeric():\n\u001b[0;32m     10\u001b[0m         elev \u001b[38;5;241m=\u001b[39m \u001b[38;5;28mint\u001b[39m(elev)\n\u001b[1;32m---> 11\u001b[0m     \u001b[38;5;28;01mif\u001b[39;00m \u001b[43melev\u001b[49m\u001b[43m \u001b[49m\u001b[38;5;241;43m>\u001b[39;49m\u001b[38;5;241;43m=\u001b[39;49m\u001b[43m \u001b[49m\u001b[43mmin_elev\u001b[49m \u001b[38;5;129;01mand\u001b[39;00m elev \u001b[38;5;241m<\u001b[39m\u001b[38;5;241m=\u001b[39m max_elev:\n\u001b[0;32m     12\u001b[0m         cities\u001b[38;5;241m.\u001b[39mappend(city)\n\u001b[0;32m     13\u001b[0m \u001b[38;5;28;01mreturn\u001b[39;00m cities\n",
      "\u001b[1;31mTypeError\u001b[0m: '>=' not supported between instances of 'str' and 'int'"
     ]
    }
   ],
   "source": [
    "search('airport-codes_csv.csv', 100, 120)"
   ]
  },
  {
   "cell_type": "code",
   "execution_count": null,
   "id": "9f9fe5a5-b4ce-42df-87ec-168db142c831",
   "metadata": {},
   "outputs": [],
   "source": []
  }
 ],
 "metadata": {
  "kernelspec": {
   "display_name": "Python 3 (ipykernel)",
   "language": "python",
   "name": "python3"
  },
  "language_info": {
   "codemirror_mode": {
    "name": "ipython",
    "version": 3
   },
   "file_extension": ".py",
   "mimetype": "text/x-python",
   "name": "python",
   "nbconvert_exporter": "python",
   "pygments_lexer": "ipython3",
   "version": "3.10.8"
  }
 },
 "nbformat": 4,
 "nbformat_minor": 5
}
